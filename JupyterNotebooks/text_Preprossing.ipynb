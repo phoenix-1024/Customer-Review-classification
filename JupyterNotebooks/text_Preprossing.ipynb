{
  "nbformat": 4,
  "nbformat_minor": 0,
  "metadata": {
    "colab": {
      "name": "text Preprossing.ipynb",
      "provenance": [],
      "collapsed_sections": []
    },
    "kernelspec": {
      "name": "python3",
      "display_name": "Python 3"
    },
    "language_info": {
      "name": "python"
    }
  },
  "cells": [
    {
      "cell_type": "code",
      "metadata": {
        "id": "kcw741mU48oF",
        "colab": {
          "base_uri": "https://localhost:8080/"
        },
        "outputId": "9c7459d1-386c-4ad4-cacc-0b67ef7dc603"
      },
      "source": [
        "from google.colab import drive\n",
        "drive.mount('/content/drive')"
      ],
      "execution_count": null,
      "outputs": [
        {
          "output_type": "stream",
          "name": "stdout",
          "text": [
            "Mounted at /content/drive\n"
          ]
        }
      ]
    },
    {
      "cell_type": "code",
      "metadata": {
        "id": "Q4Qq_Rcx4Mou",
        "colab": {
          "base_uri": "https://localhost:8080/"
        },
        "outputId": "d303196a-9519-4ab6-f80f-e4d07eacab04"
      },
      "source": [
        "import pandas as pd\n",
        "import numpy as np\n",
        "import re\n",
        "import multiprocessing\n",
        "#from unidecode import unidecode\n",
        "from textblob import TextBlob\n",
        "\n",
        "import nltk\n",
        "nltk.download('stopwords')\n",
        "from nltk.corpus import stopwords\n",
        "from wordcloud import WordCloud, STOPWORDS\n",
        "import spacy\n"
      ],
      "execution_count": null,
      "outputs": [
        {
          "output_type": "stream",
          "name": "stdout",
          "text": [
            "[nltk_data] Downloading package stopwords to /root/nltk_data...\n",
            "[nltk_data]   Unzipping corpora/stopwords.zip.\n"
          ]
        }
      ]
    },
    {
      "cell_type": "code",
      "metadata": {
        "id": "Q2ObPfWNHi-h",
        "colab": {
          "base_uri": "https://localhost:8080/"
        },
        "outputId": "9a451e83-e56d-49c8-c4de-d45ff1383c05"
      },
      "source": [
        "!pip install emot"
      ],
      "execution_count": null,
      "outputs": [
        {
          "output_type": "stream",
          "name": "stdout",
          "text": [
            "Collecting emot\n",
            "  Downloading emot-3.1-py3-none-any.whl (61 kB)\n",
            "\u001b[?25l\r\u001b[K     |█████▎                          | 10 kB 21.1 MB/s eta 0:00:01\r\u001b[K     |██████████▋                     | 20 kB 9.0 MB/s eta 0:00:01\r\u001b[K     |████████████████                | 30 kB 7.2 MB/s eta 0:00:01\r\u001b[K     |█████████████████████▎          | 40 kB 7.4 MB/s eta 0:00:01\r\u001b[K     |██████████████████████████▋     | 51 kB 4.1 MB/s eta 0:00:01\r\u001b[K     |████████████████████████████████| 61 kB 4.3 MB/s eta 0:00:01\r\u001b[K     |████████████████████████████████| 61 kB 16 kB/s \n",
            "\u001b[?25hInstalling collected packages: emot\n",
            "Successfully installed emot-3.1\n"
          ]
        }
      ]
    },
    {
      "cell_type": "code",
      "metadata": {
        "id": "-NFc2IGv4tjv",
        "colab": {
          "base_uri": "https://localhost:8080/",
          "height": 329
        },
        "outputId": "cb0cd0b3-28e2-455e-a873-6e9716abbba9"
      },
      "source": [
        "DF = pd.read_csv('/content/drive/MyDrive/NLP/Scala_test_data.csv')\n",
        "DF.head()"
      ],
      "execution_count": null,
      "outputs": [
        {
          "output_type": "execute_result",
          "data": {
            "text/html": [
              "<div>\n",
              "<style scoped>\n",
              "    .dataframe tbody tr th:only-of-type {\n",
              "        vertical-align: middle;\n",
              "    }\n",
              "\n",
              "    .dataframe tbody tr th {\n",
              "        vertical-align: top;\n",
              "    }\n",
              "\n",
              "    .dataframe thead th {\n",
              "        text-align: right;\n",
              "    }\n",
              "</style>\n",
              "<table border=\"1\" class=\"dataframe\">\n",
              "  <thead>\n",
              "    <tr style=\"text-align: right;\">\n",
              "      <th></th>\n",
              "      <th>Content_Id</th>\n",
              "      <th>Article_Title_Txt</th>\n",
              "      <th>Locale_Cd</th>\n",
              "      <th>comment_ts</th>\n",
              "      <th>Rating_Comment_Txt</th>\n",
              "    </tr>\n",
              "  </thead>\n",
              "  <tbody>\n",
              "    <tr>\n",
              "      <th>0</th>\n",
              "      <td>HT204168</td>\n",
              "      <td>NaN</td>\n",
              "      <td>en_US</td>\n",
              "      <td>17-01-18 20:19</td>\n",
              "      <td>I can\u001at accept FaceTime calls</td>\n",
              "    </tr>\n",
              "    <tr>\n",
              "      <th>1</th>\n",
              "      <td>HT204053</td>\n",
              "      <td>NaN</td>\n",
              "      <td>en_US</td>\n",
              "      <td>29-07-17 16:19</td>\n",
              "      <td>genius bar appointment</td>\n",
              "    </tr>\n",
              "    <tr>\n",
              "      <th>2</th>\n",
              "      <td>HT207043</td>\n",
              "      <td>NaN</td>\n",
              "      <td>en_US</td>\n",
              "      <td>18-01-18 22:07</td>\n",
              "      <td>So basically if my phone gets wet there isn\u001at ...</td>\n",
              "    </tr>\n",
              "    <tr>\n",
              "      <th>3</th>\n",
              "      <td>HT204385</td>\n",
              "      <td>NaN</td>\n",
              "      <td>en_US</td>\n",
              "      <td>12-02-18 21:10</td>\n",
              "      <td>Why do you force people to deauthorize all com...</td>\n",
              "    </tr>\n",
              "    <tr>\n",
              "      <th>4</th>\n",
              "      <td>BK_BF0D7D2D2C2DCA6D2A6301E487ABFD7E_AMSA9337677E</td>\n",
              "      <td>NaN</td>\n",
              "      <td>en_US</td>\n",
              "      <td>05-02-18 21:14</td>\n",
              "      <td>my device is listed in the audio device list  ...</td>\n",
              "    </tr>\n",
              "  </tbody>\n",
              "</table>\n",
              "</div>"
            ],
            "text/plain": [
              "                                         Content_Id  ...                                 Rating_Comment_Txt\n",
              "0                                          HT204168  ...                      I can\u001at accept FaceTime calls\n",
              "1                                          HT204053  ...                             genius bar appointment\n",
              "2                                          HT207043  ...  So basically if my phone gets wet there isn\u001at ...\n",
              "3                                          HT204385  ...  Why do you force people to deauthorize all com...\n",
              "4  BK_BF0D7D2D2C2DCA6D2A6301E487ABFD7E_AMSA9337677E  ...  my device is listed in the audio device list  ...\n",
              "\n",
              "[5 rows x 5 columns]"
            ]
          },
          "metadata": {},
          "execution_count": 4
        }
      ]
    },
    {
      "cell_type": "code",
      "metadata": {
        "id": "VezVNPHI6AmF"
      },
      "source": [
        "#DF = DF.rename(columns={:'Text'})"
      ],
      "execution_count": null,
      "outputs": []
    },
    {
      "cell_type": "code",
      "metadata": {
        "id": "AWqbSUNdAGud"
      },
      "source": [
        "def remove_emoji(string):\n",
        "    emoji_pattern = re.compile(\"[\"\n",
        "                           u\"\\U0001F600-\\U0001F64F\"  # emoticons\n",
        "                           u\"\\U0001F300-\\U0001F5FF\"  # symbols & pictographs\n",
        "                           u\"\\U0001F680-\\U0001F6FF\"  # transport & map symbols\n",
        "                           u\"\\U0001F1E0-\\U0001F1FF\"  # flags (iOS)\n",
        "                           u\"\\U00002702-\\U000027B0\"\n",
        "                           u\"\\U000024C2-\\U0001F251\"\n",
        "                           \"]+\", flags=re.UNICODE)\n",
        "    return emoji_pattern.sub(r'', string)\n",
        "    "
      ],
      "execution_count": null,
      "outputs": []
    },
    {
      "cell_type": "code",
      "metadata": {
        "id": "eZklJ7Jc2dy5"
      },
      "source": [
        "def make_re_compatible_pattern(emot):\n",
        "    pattern =  emot.replace(\")\",\"\\)\").replace(\"]\",\"\\]\").replace(\"(\",\"\\(\").replace(\"[\",\"\\[\") \n",
        "    return pattern"
      ],
      "execution_count": null,
      "outputs": []
    },
    {
      "cell_type": "code",
      "metadata": {
        "colab": {
          "base_uri": "https://localhost:8080/",
          "height": 35
        },
        "id": "UBf9DzWg2gIs",
        "outputId": "69538034-fc84-4d75-a54b-e0918501dd5f"
      },
      "source": [
        "make_re_compatible_pattern(\":-))))\")"
      ],
      "execution_count": null,
      "outputs": [
        {
          "output_type": "execute_result",
          "data": {
            "application/vnd.google.colaboratory.intrinsic+json": {
              "type": "string"
            },
            "text/plain": [
              "':-\\\\)\\\\)\\\\)\\\\)'"
            ]
          },
          "metadata": {},
          "execution_count": 8
        }
      ]
    },
    {
      "cell_type": "code",
      "metadata": {
        "colab": {
          "base_uri": "https://localhost:8080/",
          "height": 35
        },
        "id": "tDnp60_LCXpd",
        "outputId": "4396f54a-4e49-4532-80bc-9513a9705cb2"
      },
      "source": [
        "from emot.emo_unicode import UNICODE_EMOJI, EMOTICONS_EMO\n",
        "# Converting emojis to words\n",
        "def convert_emojis(text):\n",
        "    for emot in UNICODE_EMOJI:\n",
        "        text = text.replace(emot, \"_\".join(UNICODE_EMOJI[emot].replace(\",\",\"\").replace(\":\",\"\").split()))\n",
        "        return text\n",
        "\n",
        "# the reason for this function is how re handels () [] \n",
        "def make_re_compatible_pattern(emot):\n",
        "    pattern =  emot.replace(\")\",\"\\)\").replace(\"]\",\"\\]\").replace(\"(\",\"\\(\").replace(\"[\",\"\\[\") \n",
        "    return pattern\n",
        "# Converting emoticons to words    \n",
        "def convert_emoticons(text):\n",
        "    for emot in EMOTICONS_EMO:\n",
        "        text = text.replace(emot, EMOTICONS_EMO[emot].split(\",\")[0])\n",
        "    return text\n",
        "# Example\n",
        "text = \"Hello :-) \"\n",
        "convert_emoticons(text)"
      ],
      "execution_count": null,
      "outputs": [
        {
          "output_type": "execute_result",
          "data": {
            "application/vnd.google.colaboratory.intrinsic+json": {
              "type": "string"
            },
            "text/plain": [
              "'Hello Happy face smiley '"
            ]
          },
          "metadata": {},
          "execution_count": 9
        }
      ]
    },
    {
      "cell_type": "code",
      "metadata": {
        "colab": {
          "base_uri": "https://localhost:8080/"
        },
        "id": "UGiocHE8EKwf",
        "outputId": "b834d45a-80cf-4ee4-b47b-a39adadfe534"
      },
      "source": [
        "from bs4 import BeautifulSoup\n",
        "#Function for removing html\n",
        "def html(text):\n",
        "    return BeautifulSoup(text, \"lxml\").text\n",
        "# Examples\n",
        "text = \"\"\"<div>\n",
        "<h1> This</h1>\n",
        "<p> is</p>\n",
        "<a href=\"https://www.abc.com/\"> ABCD</a>\n",
        "</div>\n",
        "\"\"\"\n",
        "print(html(text))\n",
        "# Passing the function to 'text_rare'\n",
        "#df['text_rare'] = df['text_rare'].apply(html)"
      ],
      "execution_count": null,
      "outputs": [
        {
          "output_type": "stream",
          "name": "stdout",
          "text": [
            "\n",
            " This\n",
            " is\n",
            " ABCD\n",
            "\n",
            "\n"
          ]
        }
      ]
    },
    {
      "cell_type": "code",
      "metadata": {
        "colab": {
          "base_uri": "https://localhost:8080/",
          "height": 35
        },
        "id": "WwFnfb2PEMbN",
        "outputId": "614d4cdb-5e4a-4017-95a1-55ed9b015a1b"
      },
      "source": [
        "# Function for url's\n",
        "def remove_urls(text):\n",
        "    url_pattern = re.compile(r'https?://\\S+|www\\.\\S+')\n",
        "    return url_pattern.sub(r'', text)\n",
        "# Examples\n",
        "text = \"This is my website, https://www.abc.com\"\n",
        "remove_urls(text)\n",
        "#Passing the function to 'text_rare'\n",
        "#df['text_rare'] = df['text_rare'].apply(remove_urls)"
      ],
      "execution_count": null,
      "outputs": [
        {
          "output_type": "execute_result",
          "data": {
            "application/vnd.google.colaboratory.intrinsic+json": {
              "type": "string"
            },
            "text/plain": [
              "'This is my website, '"
            ]
          },
          "metadata": {},
          "execution_count": 11
        }
      ]
    },
    {
      "cell_type": "code",
      "metadata": {
        "id": "ToE1SGn4PcBT"
      },
      "source": [
        "\n",
        "# Dictionary of English Contractions\n",
        "contractions_dict = { \"ain't\": \"are not\",\"'s\":\" is\",\"aren't\": \"are not\",\n",
        "                     \"can't\": \"cannot\",\"can't've\": \"cannot have\",\n",
        "                     \"'cause\": \"because\",\"could've\": \"could have\",\"couldn't\": \"could not\",\n",
        "                     \"couldn't've\": \"could not have\", \"didn't\": \"did not\",\"doesn't\": \"does not\",\n",
        "                     \"don't\": \"do not\",\"hadn't\": \"had not\",\"hadn't've\": \"had not have\",\n",
        "                     \"hasn't\": \"has not\",\"haven't\": \"have not\",\"he'd\": \"he would\",\n",
        "                     \"he'd've\": \"he would have\",\"he'll\": \"he will\", \"he'll've\": \"he will have\",\n",
        "                     \"how'd\": \"how did\",\"how'd'y\": \"how do you\",\"how'll\": \"how will\",\n",
        "                     \"I'd\": \"I would\", \"I'd've\": \"I would have\",\"I'll\": \"I will\",\n",
        "                     \"I'll've\": \"I will have\",\"I'm\": \"I am\",\"I've\": \"I have\", \"isn't\": \"is not\",\n",
        "                     \"it'd\": \"it would\",\"it'd've\": \"it would have\",\"it'll\": \"it will\",\n",
        "                     \"it'll've\": \"it will have\", \"let's\": \"let us\",\"ma'am\": \"madam\",\n",
        "                     \"mayn't\": \"may not\",\"might've\": \"might have\",\"mightn't\": \"might not\", \n",
        "                     \"mightn't've\": \"might not have\",\"must've\": \"must have\",\"mustn't\": \"must not\",\n",
        "                     \"mustn't've\": \"must not have\", \"needn't\": \"need not\",\n",
        "                     \"needn't've\": \"need not have\",\"o'clock\": \"of the clock\",\"oughtn't\": \"ought not\",\n",
        "                     \"oughtn't've\": \"ought not have\",\"shan't\": \"shall not\",\"sha'n't\": \"shall not\",\n",
        "                     \"shan't've\": \"shall not have\",\"she'd\": \"she would\",\"she'd've\": \"she would have\",\n",
        "                     \"she'll\": \"she will\", \"she'll've\": \"she will have\",\"should've\": \"should have\",\n",
        "                     \"shouldn't\": \"should not\", \"shouldn't've\": \"should not have\",\"so've\": \"so have\",\n",
        "                     \"that'd\": \"that would\",\"that'd've\": \"that would have\", \"there'd\": \"there would\",\n",
        "                     \"there'd've\": \"there would have\", \"they'd\": \"they would\",\n",
        "                     \"they'd've\": \"they would have\",\"they'll\": \"they will\",\n",
        "                     \"they'll've\": \"they will have\", \"they're\": \"they are\",\"they've\": \"they have\",\n",
        "                     \"to've\": \"to have\",\"wasn't\": \"was not\",\"we'd\": \"we would\",\n",
        "                     \"we'd've\": \"we would have\",\"we'll\": \"we will\",\"we'll've\": \"we will have\",\n",
        "                     \"we're\": \"we are\",\"we've\": \"we have\", \"weren't\": \"were not\",\"what'll\": \"what will\",\n",
        "                     \"what'll've\": \"what will have\",\"what're\": \"what are\", \"what've\": \"what have\",\n",
        "                     \"when've\": \"when have\",\"where'd\": \"where did\", \"where've\": \"where have\",\n",
        "                     \"who'll\": \"who will\",\"who'll've\": \"who will have\",\"who've\": \"who have\",\n",
        "                     \"why've\": \"why have\",\"will've\": \"will have\",\"won't\": \"will not\",\n",
        "                     \"won't've\": \"will not have\", \"would've\": \"would have\",\"wouldn't\": \"would not\",\n",
        "                     \"wouldn't've\": \"would not have\",\"y'all\": \"you all\", \"y'all'd\": \"you all would\",\n",
        "                     \"y'all'd've\": \"you all would have\",\"y'all're\": \"you all are\",\n",
        "                     \"y'all've\": \"you all have\", \"you'd\": \"you would\",\"you'd've\": \"you would have\",\n",
        "                     \"you'll\": \"you will\",\"you'll've\": \"you will have\", \"you're\": \"you are\",\n",
        "                     \"you've\": \"you have\"}\n",
        "\n",
        "# Regular expression for finding contractions\n",
        "contractions_re=re.compile('(%s)' % '|'.join(contractions_dict.keys()))\n",
        "\n",
        "# Function for expanding contractions\n",
        "def expand_contractions(text,contractions_dict=contractions_dict):\n",
        "  def replace(match):\n",
        "    return contractions_dict[match.group(0)]\n",
        "  return contractions_re.sub(replace, text)\n"
      ],
      "execution_count": null,
      "outputs": []
    },
    {
      "cell_type": "code",
      "metadata": {
        "id": "WfoGXlYn6ZU4"
      },
      "source": [
        "def process_text(dataF ,cl_name : str,new : str, remove_stop_words = True ):\n",
        "    new_cl_name = new + cl_name\n",
        "    \n",
        "    \n",
        "    dataF[cl_name] = dataF[cl_name].apply(lambda x: str(x))\n",
        "\n",
        "    #remove wierd html ascii symbols\n",
        "    dataF[cl_name] = dataF[cl_name].apply(lambda x: re.sub(\"&#[0-9]*;\", \"'\",x))\n",
        "\n",
        "    #remove wierd &quot;\n",
        "    dataF[cl_name] = dataF[cl_name].apply(lambda x: re.sub(\"&[a-z]*;\", \"'\",x))\n",
        "\n",
        "\n",
        "    # make it lower case\n",
        "    dataF[new_cl_name] = dataF[cl_name].apply(lambda x: \" \".join(x.lower() for x in x.split()))\n",
        "    \n",
        "    #df[new_cl_name].head()\n",
        "      \n",
        "    # Converting emojis to words\n",
        "    dataF[new_cl_name] = dataF[new_cl_name].apply(convert_emojis)\n",
        "\n",
        "    # Converting emoticons to words\n",
        "    dataF[new_cl_name] = dataF[new_cl_name].apply(convert_emoticons)\n",
        "\n",
        "    # remove hashtags\n",
        "    dataF[cl_name] = dataF[cl_name].apply(lambda x: re.sub(\"#[a-z]*\", '',x))\n",
        "\n",
        "    # remove punctuation but not .\n",
        "    \n",
        "    dataF[new_cl_name] = dataF[new_cl_name].str.replace(\".\",'SW34456gfsju9345')\n",
        "\n",
        "    dataF[new_cl_name] = dataF[new_cl_name].str.replace('[^\\w\\s]',\"'\")\n",
        "\n",
        "    dataF[new_cl_name] = dataF[new_cl_name].apply(expand_contractions)\n",
        "\n",
        "    dataF[new_cl_name] = dataF[new_cl_name].str.replace('[^\\w\\s]',\" \")\n",
        "\n",
        "    dataF[new_cl_name] = dataF[new_cl_name].str.replace('SW34456gfsju9345','.')\n",
        "    \n",
        "    # remove stop words like a, the, etc... \n",
        "    if remove_stop_words:\n",
        "        stop = stopwords.words('english')\n",
        "        dataF[new_cl_name] = dataF[new_cl_name].apply(lambda x: [x for x in x.split() if x not in stop])\n",
        "\n",
        "    # Spell check using text blob\n",
        "    #dataF[new_cl_name] = dataF[new_cl_name].apply(lambda x: str(TextBlob(x).correct()))\n",
        "    # takes too long\n",
        "  \n",
        "\n",
        "    # remove urls  \n",
        "    dataF[new_cl_name] = dataF[new_cl_name].apply(remove_urls)\n"
      ],
      "execution_count": null,
      "outputs": []
    },
    {
      "cell_type": "code",
      "metadata": {
        "id": "ZLOQAKh9QNUH"
      },
      "source": [
        "DF = DF.rename(columns={'Rating_Comment_Txt':'Text'})"
      ],
      "execution_count": null,
      "outputs": []
    },
    {
      "cell_type": "code",
      "metadata": {
        "id": "9w8qyhqh7g2P",
        "colab": {
          "base_uri": "https://localhost:8080/",
          "height": 358
        },
        "outputId": "f1f95839-d2bb-445b-8566-9f872e0ba721"
      },
      "source": [
        "process_text(DF,'Text','sw_',remove_stop_words=True)"
      ],
      "execution_count": null,
      "outputs": [
        {
          "output_type": "error",
          "ename": "TypeError",
          "evalue": "ignored",
          "traceback": [
            "\u001b[0;31m---------------------------------------------------------------------------\u001b[0m",
            "\u001b[0;31mTypeError\u001b[0m                                 Traceback (most recent call last)",
            "\u001b[0;32m<ipython-input-17-dd54e69d108f>\u001b[0m in \u001b[0;36m<module>\u001b[0;34m()\u001b[0m\n\u001b[0;32m----> 1\u001b[0;31m \u001b[0mprocess_text\u001b[0m\u001b[0;34m(\u001b[0m\u001b[0mDF\u001b[0m\u001b[0;34m,\u001b[0m\u001b[0;34m'Text'\u001b[0m\u001b[0;34m,\u001b[0m\u001b[0;34m'sw_'\u001b[0m\u001b[0;34m,\u001b[0m\u001b[0mremove_stop_words\u001b[0m\u001b[0;34m=\u001b[0m\u001b[0;32mTrue\u001b[0m\u001b[0;34m)\u001b[0m\u001b[0;34m\u001b[0m\u001b[0;34m\u001b[0m\u001b[0m\n\u001b[0m",
            "\u001b[0;32m<ipython-input-14-804430540b74>\u001b[0m in \u001b[0;36mprocess_text\u001b[0;34m(dataF, cl_name, new, remove_stop_words)\u001b[0m\n\u001b[1;32m     48\u001b[0m \u001b[0;34m\u001b[0m\u001b[0m\n\u001b[1;32m     49\u001b[0m     \u001b[0;31m# remove urls\u001b[0m\u001b[0;34m\u001b[0m\u001b[0;34m\u001b[0m\u001b[0;34m\u001b[0m\u001b[0m\n\u001b[0;32m---> 50\u001b[0;31m     \u001b[0mdataF\u001b[0m\u001b[0;34m[\u001b[0m\u001b[0mnew_cl_name\u001b[0m\u001b[0;34m]\u001b[0m \u001b[0;34m=\u001b[0m \u001b[0mdataF\u001b[0m\u001b[0;34m[\u001b[0m\u001b[0mnew_cl_name\u001b[0m\u001b[0;34m]\u001b[0m\u001b[0;34m.\u001b[0m\u001b[0mapply\u001b[0m\u001b[0;34m(\u001b[0m\u001b[0mremove_urls\u001b[0m\u001b[0;34m)\u001b[0m\u001b[0;34m\u001b[0m\u001b[0;34m\u001b[0m\u001b[0m\n\u001b[0m",
            "\u001b[0;32m/usr/local/lib/python3.7/dist-packages/pandas/core/series.py\u001b[0m in \u001b[0;36mapply\u001b[0;34m(self, func, convert_dtype, args, **kwds)\u001b[0m\n\u001b[1;32m   4211\u001b[0m             \u001b[0;32melse\u001b[0m\u001b[0;34m:\u001b[0m\u001b[0;34m\u001b[0m\u001b[0;34m\u001b[0m\u001b[0m\n\u001b[1;32m   4212\u001b[0m                 \u001b[0mvalues\u001b[0m \u001b[0;34m=\u001b[0m \u001b[0mself\u001b[0m\u001b[0;34m.\u001b[0m\u001b[0mastype\u001b[0m\u001b[0;34m(\u001b[0m\u001b[0mobject\u001b[0m\u001b[0;34m)\u001b[0m\u001b[0;34m.\u001b[0m\u001b[0m_values\u001b[0m\u001b[0;34m\u001b[0m\u001b[0;34m\u001b[0m\u001b[0m\n\u001b[0;32m-> 4213\u001b[0;31m                 \u001b[0mmapped\u001b[0m \u001b[0;34m=\u001b[0m \u001b[0mlib\u001b[0m\u001b[0;34m.\u001b[0m\u001b[0mmap_infer\u001b[0m\u001b[0;34m(\u001b[0m\u001b[0mvalues\u001b[0m\u001b[0;34m,\u001b[0m \u001b[0mf\u001b[0m\u001b[0;34m,\u001b[0m \u001b[0mconvert\u001b[0m\u001b[0;34m=\u001b[0m\u001b[0mconvert_dtype\u001b[0m\u001b[0;34m)\u001b[0m\u001b[0;34m\u001b[0m\u001b[0;34m\u001b[0m\u001b[0m\n\u001b[0m\u001b[1;32m   4214\u001b[0m \u001b[0;34m\u001b[0m\u001b[0m\n\u001b[1;32m   4215\u001b[0m         \u001b[0;32mif\u001b[0m \u001b[0mlen\u001b[0m\u001b[0;34m(\u001b[0m\u001b[0mmapped\u001b[0m\u001b[0;34m)\u001b[0m \u001b[0;32mand\u001b[0m \u001b[0misinstance\u001b[0m\u001b[0;34m(\u001b[0m\u001b[0mmapped\u001b[0m\u001b[0;34m[\u001b[0m\u001b[0;36m0\u001b[0m\u001b[0;34m]\u001b[0m\u001b[0;34m,\u001b[0m \u001b[0mSeries\u001b[0m\u001b[0;34m)\u001b[0m\u001b[0;34m:\u001b[0m\u001b[0;34m\u001b[0m\u001b[0;34m\u001b[0m\u001b[0m\n",
            "\u001b[0;32mpandas/_libs/lib.pyx\u001b[0m in \u001b[0;36mpandas._libs.lib.map_infer\u001b[0;34m()\u001b[0m\n",
            "\u001b[0;32m<ipython-input-11-1de921890c36>\u001b[0m in \u001b[0;36mremove_urls\u001b[0;34m(text)\u001b[0m\n\u001b[1;32m      2\u001b[0m \u001b[0;32mdef\u001b[0m \u001b[0mremove_urls\u001b[0m\u001b[0;34m(\u001b[0m\u001b[0mtext\u001b[0m\u001b[0;34m)\u001b[0m\u001b[0;34m:\u001b[0m\u001b[0;34m\u001b[0m\u001b[0;34m\u001b[0m\u001b[0m\n\u001b[1;32m      3\u001b[0m     \u001b[0murl_pattern\u001b[0m \u001b[0;34m=\u001b[0m \u001b[0mre\u001b[0m\u001b[0;34m.\u001b[0m\u001b[0mcompile\u001b[0m\u001b[0;34m(\u001b[0m\u001b[0;34mr'https?://\\S+|www\\.\\S+'\u001b[0m\u001b[0;34m)\u001b[0m\u001b[0;34m\u001b[0m\u001b[0;34m\u001b[0m\u001b[0m\n\u001b[0;32m----> 4\u001b[0;31m     \u001b[0;32mreturn\u001b[0m \u001b[0murl_pattern\u001b[0m\u001b[0;34m.\u001b[0m\u001b[0msub\u001b[0m\u001b[0;34m(\u001b[0m\u001b[0;34mr''\u001b[0m\u001b[0;34m,\u001b[0m \u001b[0mtext\u001b[0m\u001b[0;34m)\u001b[0m\u001b[0;34m\u001b[0m\u001b[0;34m\u001b[0m\u001b[0m\n\u001b[0m\u001b[1;32m      5\u001b[0m \u001b[0;31m# Examples\u001b[0m\u001b[0;34m\u001b[0m\u001b[0;34m\u001b[0m\u001b[0;34m\u001b[0m\u001b[0m\n\u001b[1;32m      6\u001b[0m \u001b[0mtext\u001b[0m \u001b[0;34m=\u001b[0m \u001b[0;34m\"This is my website, https://www.abc.com\"\u001b[0m\u001b[0;34m\u001b[0m\u001b[0;34m\u001b[0m\u001b[0m\n",
            "\u001b[0;31mTypeError\u001b[0m: expected string or bytes-like object"
          ]
        }
      ]
    },
    {
      "cell_type": "code",
      "metadata": {
        "id": "_xI_EEvjQXux"
      },
      "source": [
        "temp_df = DF.sw_text"
      ],
      "execution_count": null,
      "outputs": []
    },
    {
      "cell_type": "code",
      "metadata": {
        "id": "Ew0gBetHGdY2"
      },
      "source": [
        "def truncate_long_sent(DF):\n",
        "    for i in range(DF.shape[0]):\n",
        "        d = DF[i]\n",
        "        d_l = d.split()\n",
        "        if len(d_l) >= 400:\n",
        "            d_l = d_l[:40]\n",
        "            DF[i] = ' '.join(d_l)\n",
        "#truncate_long_sent(DF.sw_Text)"
      ],
      "execution_count": null,
      "outputs": []
    },
    {
      "cell_type": "code",
      "metadata": {
        "id": "0fTmNxBQHB29"
      },
      "source": [
        "\n",
        "def preprocess_DF(PATH, Text_col :str,max_words : int):\n",
        "    DF = pd.read_csv(PATH)\n",
        "    DF = DF.rename(columns={Text_col : 'Text'})\n",
        "    process_text(DF,'Text','sw_', remove_stop_words=False)\n",
        "    DF.head()\n",
        "    truncate_long_sent(DF.sw_Text)\n",
        "    path_list = PATH.split('/')\n",
        "    p = PATH.split('/')\n",
        "    new_PATH = \"/\".join(p[:-1] + ['Refined_' + p[-1]])\n",
        "    DF.to_csv(new_PATH)\n",
        "    print(f'saved data to {new_PATH}')\n",
        "    return DF"
      ],
      "execution_count": null,
      "outputs": []
    },
    {
      "cell_type": "code",
      "metadata": {
        "colab": {
          "base_uri": "https://localhost:8080/"
        },
        "id": "7iRB3fZbGehh",
        "outputId": "c77a41e2-3091-4d9f-ecd7-11a036c4d8ee"
      },
      "source": [
        "DF = preprocess_DF('/content/drive/MyDrive/NLP/Final_8_combo_data.csv','Text',400)\n"
      ],
      "execution_count": null,
      "outputs": [
        {
          "output_type": "stream",
          "name": "stdout",
          "text": [
            "satved data to /content/drive/MyDrive/NLP/Refined_Final_8_combo_data.csv\n"
          ]
        }
      ]
    },
    {
      "cell_type": "code",
      "metadata": {
        "colab": {
          "base_uri": "https://localhost:8080/",
          "height": 292
        },
        "id": "QiNglXBMOCxs",
        "outputId": "7725ffb6-d071-4623-949b-af92d0c7aac8"
      },
      "source": [
        "DF.tail()"
      ],
      "execution_count": null,
      "outputs": [
        {
          "output_type": "execute_result",
          "data": {
            "text/html": [
              "<div>\n",
              "<style scoped>\n",
              "    .dataframe tbody tr th:only-of-type {\n",
              "        vertical-align: middle;\n",
              "    }\n",
              "\n",
              "    .dataframe tbody tr th {\n",
              "        vertical-align: top;\n",
              "    }\n",
              "\n",
              "    .dataframe thead th {\n",
              "        text-align: right;\n",
              "    }\n",
              "</style>\n",
              "<table border=\"1\" class=\"dataframe\">\n",
              "  <thead>\n",
              "    <tr style=\"text-align: right;\">\n",
              "      <th></th>\n",
              "      <th>Unnamed: 0</th>\n",
              "      <th>Text</th>\n",
              "      <th>Emotions</th>\n",
              "      <th>sw_Text</th>\n",
              "    </tr>\n",
              "  </thead>\n",
              "  <tbody>\n",
              "    <tr>\n",
              "      <th>328867</th>\n",
              "      <td>3080</td>\n",
              "      <td>MT @AliHaggett: Looking forward to our public ...</td>\n",
              "      <td>happy</td>\n",
              "      <td>mt  alihaggett  looking forward to our public ...</td>\n",
              "    </tr>\n",
              "    <tr>\n",
              "      <th>328868</th>\n",
              "      <td>3081</td>\n",
              "      <td>@britishmuseum Upper arm guard?</td>\n",
              "      <td>nocode</td>\n",
              "      <td>britishmuseum upper arm guard</td>\n",
              "    </tr>\n",
              "    <tr>\n",
              "      <th>328869</th>\n",
              "      <td>3082</td>\n",
              "      <td>@MrStuchbery @britishmuseum Mesmerising.</td>\n",
              "      <td>happy</td>\n",
              "      <td>mrstuchbery  britishmuseum mesmerising.</td>\n",
              "    </tr>\n",
              "    <tr>\n",
              "      <th>328870</th>\n",
              "      <td>3083</td>\n",
              "      <td>@NationalGallery The 2nd GENOCIDE against Biaf...</td>\n",
              "      <td>not-relevant</td>\n",
              "      <td>nationalgallery the 2nd genocide against  bia...</td>\n",
              "    </tr>\n",
              "    <tr>\n",
              "      <th>328871</th>\n",
              "      <td>3084</td>\n",
              "      <td>@britishmuseum Experience  from DukeofWellingt...</td>\n",
              "      <td>nocode</td>\n",
              "      <td>britishmuseum experience  battlewaterloo from...</td>\n",
              "    </tr>\n",
              "  </tbody>\n",
              "</table>\n",
              "</div>"
            ],
            "text/plain": [
              "        Unnamed: 0  ...                                            sw_Text\n",
              "328867        3080  ...  mt  alihaggett  looking forward to our public ...\n",
              "328868        3081  ...                     britishmuseum upper arm guard \n",
              "328869        3082  ...            mrstuchbery  britishmuseum mesmerising.\n",
              "328870        3083  ...   nationalgallery the 2nd genocide against  bia...\n",
              "328871        3084  ...   britishmuseum experience  battlewaterloo from...\n",
              "\n",
              "[5 rows x 4 columns]"
            ]
          },
          "metadata": {},
          "execution_count": 19
        }
      ]
    },
    {
      "cell_type": "code",
      "metadata": {
        "colab": {
          "base_uri": "https://localhost:8080/"
        },
        "id": "J4DDGFtqC0cw",
        "outputId": "703caa45-fa0a-4c18-ece9-11d662fe4b01"
      },
      "source": [
        "lines = []\n",
        "def find_word(DF,word):\n",
        "    for x in DF.sw_Text:\n",
        "        if len(re.findall(word,str(x))) > 0 :\n",
        "            lines.append(x)\n",
        "            print(x)\n",
        "find_word(DF,'android')"
      ],
      "execution_count": null,
      "outputs": [
        {
          "output_type": "stream",
          "name": "stdout",
          "text": [
            "i liked the japandroids for that one year\n",
            "i m seeing the error using chrome both on macos desktop and android. i m glad it seems to just be me though. apologies for the snarkiness.\n",
            "yeah i had android and was having difficulties but i was able to get it easily when using my gf s mac. thanks \n",
            "i m seeing similar on android  chrome browser. other than that  great stuff \n",
            " samsung other android phones don t have bixby  that s samsung s bs  and yeah  it s terrible. i have the button   feature completely disabled \n",
            "imagine spending 1000  on the exact same phone every 6 months. this comment was made by the android gang\n",
            "unfortunately  on the stupid official reddit mobile app it doesn t work. i miss my android and reddit is fun app\n",
            "avid android user here. my xiaomi mi mix 2 is by far the sexiest and fastest phone i have ever had. such bliss when using it.\n",
            " all4 is the android app it designed to be buggy and work sporadically on a fire tv box   shocking\n",
            " all4 is the android app it designed to be buggy and work sporadically on a fire tv box \n",
            "we have this new etc smart phone.it comes with the android os so you can download applications . it also has a built in camera   mp3 player and touch screen . it works on the 3g network so you have fast access to the internet wherever you are .\n",
            "we have this new etc smart phone.it comes with the android os so you can download applications . it also has a built in camera   mp3 player and touch screen . it works on the 3g network so you have fast access to the internet wherever you are .\n",
            "there s really no android twitter app of tweetie s calibre\n",
            " salamandroid its not just you   its properly dragged this week\n",
            " _dritan dam you  i want an  android  stupid only rogers\n",
            " clwydian nah Wink or smirk when a single person posts about 200 tweets a day is hard to cope with on my android phone when i m unable to filter\n",
            " dfflanders looking forward to android 1.5 being pushed to the g1 then \n",
            "installing dvt card for loonix  fingers crossed  i hope it turns out as well as my android upgrade\n",
            " jordandroid it s star wars day   urgh i m gonna have to get the videos out\n",
            "jaydiohead no karma   httpSkeptical twt.fm 91610  musicmonday this is not the android i was looking for. but it ll do.\n",
            " androidtomato hello gorgeous girl  nice new pic  how are you today\n",
            "so much news on more android based devices   especially on t mobile. i m all giddy and can t wait  starts saving up   android  tmobile\n",
            "android studio is funny is giving me errors\n",
            "you have an android \n",
            "you have an android \n",
            "android studio is funny is giving me errors\n",
            "you have an android \n",
            "android studio is funny is giving me errors\n"
          ]
        }
      ]
    },
    {
      "cell_type": "code",
      "metadata": {
        "id": "Oc4urSuXEViP",
        "colab": {
          "base_uri": "https://localhost:8080/",
          "height": 275
        },
        "outputId": "117322b6-08a6-4a0d-a048-1ec581dc0b06"
      },
      "source": [
        "DF = DF.drop_duplicates(subset=['sw_Text'])\n",
        "DF.head()"
      ],
      "execution_count": null,
      "outputs": [
        {
          "output_type": "execute_result",
          "data": {
            "text/html": [
              "<div>\n",
              "<style scoped>\n",
              "    .dataframe tbody tr th:only-of-type {\n",
              "        vertical-align: middle;\n",
              "    }\n",
              "\n",
              "    .dataframe tbody tr th {\n",
              "        vertical-align: top;\n",
              "    }\n",
              "\n",
              "    .dataframe thead th {\n",
              "        text-align: right;\n",
              "    }\n",
              "</style>\n",
              "<table border=\"1\" class=\"dataframe\">\n",
              "  <thead>\n",
              "    <tr style=\"text-align: right;\">\n",
              "      <th></th>\n",
              "      <th>Unnamed: 0</th>\n",
              "      <th>Text</th>\n",
              "      <th>Emotions</th>\n",
              "      <th>sw_Text</th>\n",
              "    </tr>\n",
              "  </thead>\n",
              "  <tbody>\n",
              "    <tr>\n",
              "      <th>0</th>\n",
              "      <td>0</td>\n",
              "      <td>im feeling rather rotten so im not very ambiti...</td>\n",
              "      <td>sadness</td>\n",
              "      <td>im feeling rather rotten so im not very ambiti...</td>\n",
              "    </tr>\n",
              "    <tr>\n",
              "      <th>1</th>\n",
              "      <td>1</td>\n",
              "      <td>im updating my blog because i feel shitty</td>\n",
              "      <td>sadness</td>\n",
              "      <td>im updating my blog because i feel shitty</td>\n",
              "    </tr>\n",
              "    <tr>\n",
              "      <th>2</th>\n",
              "      <td>2</td>\n",
              "      <td>i never make her separate from me because i do...</td>\n",
              "      <td>sadness</td>\n",
              "      <td>i never make her separate from me because i do...</td>\n",
              "    </tr>\n",
              "    <tr>\n",
              "      <th>3</th>\n",
              "      <td>3</td>\n",
              "      <td>i left with my bouquet of red and yellow tulip...</td>\n",
              "      <td>joy</td>\n",
              "      <td>i left with my bouquet of red and yellow tulip...</td>\n",
              "    </tr>\n",
              "    <tr>\n",
              "      <th>4</th>\n",
              "      <td>4</td>\n",
              "      <td>i was feeling a little vain when i did this one</td>\n",
              "      <td>sadness</td>\n",
              "      <td>i was feeling a little vain when i did this one</td>\n",
              "    </tr>\n",
              "  </tbody>\n",
              "</table>\n",
              "</div>"
            ],
            "text/plain": [
              "   Unnamed: 0  ...                                            sw_Text\n",
              "0           0  ...  im feeling rather rotten so im not very ambiti...\n",
              "1           1  ...          im updating my blog because i feel shitty\n",
              "2           2  ...  i never make her separate from me because i do...\n",
              "3           3  ...  i left with my bouquet of red and yellow tulip...\n",
              "4           4  ...    i was feeling a little vain when i did this one\n",
              "\n",
              "[5 rows x 4 columns]"
            ]
          },
          "metadata": {},
          "execution_count": 26
        }
      ]
    },
    {
      "cell_type": "code",
      "metadata": {
        "id": "l8ahxQ47dJKX"
      },
      "source": [
        "DF.to_csv('/content/drive/MyDrive/NLP/Refined_Final_8_combo_data.csv')"
      ],
      "execution_count": null,
      "outputs": []
    },
    {
      "cell_type": "code",
      "metadata": {
        "id": "4utIA9qEuetJ"
      },
      "source": [
        "DF = pd.read_csv('/content/drive/MyDrive/NLP/Refined_Final_8_combo_data.csv')"
      ],
      "execution_count": null,
      "outputs": []
    },
    {
      "cell_type": "code",
      "metadata": {
        "id": "k3tYaoNrdYek",
        "colab": {
          "base_uri": "https://localhost:8080/"
        },
        "outputId": "09483686-6d84-4814-b0b9-ab8358ef3eff"
      },
      "source": [
        "DF.Emotions.value_counts()"
      ],
      "execution_count": null,
      "outputs": [
        {
          "output_type": "execute_result",
          "data": {
            "text/plain": [
              "no emotion           68293\n",
              "neutral              39047\n",
              "sadness              15671\n",
              "happiness            15123\n",
              "joy                  13140\n",
              "anger                 8889\n",
              "worry                 8431\n",
              "love                  7241\n",
              "surprise              6950\n",
              "fear                  5778\n",
              "admiration            5096\n",
              "approval              3260\n",
              "amusement             2787\n",
              "annoyance             2664\n",
              "gratitude             2594\n",
              "curiosity             2202\n",
              "disapproval           2113\n",
              "fun                   1774\n",
              "relief                1633\n",
              "nocode                1558\n",
              "confusion             1535\n",
              "non-neutral           1477\n",
              "disgust               1458\n",
              "hate                  1321\n",
              "disappointment        1279\n",
              "optimism              1220\n",
              "caring                1207\n",
              "happy                 1136\n",
              "realization            891\n",
              "excitement             844\n",
              "empty                  822\n",
              "enthusiasm             756\n",
              "desire                 681\n",
              "remorse                496\n",
              "embarrassment          305\n",
              "not-relevant           186\n",
              "boredom                179\n",
              "nervousness            131\n",
              "grief                   81\n",
              "pride                   73\n",
              "angry                   57\n",
              "sad                     32\n",
              "happy|surprise          11\n",
              "happy|sad                9\n",
              "disgust|angry            7\n",
              "sad|angry                2\n",
              "sad|disgust              2\n",
              "sad|disgust|angry        1\n",
              "Name: Emotions, dtype: int64"
            ]
          },
          "metadata": {},
          "execution_count": 61
        }
      ]
    },
    {
      "cell_type": "code",
      "metadata": {
        "id": "ObAvhdCOip0k"
      },
      "source": [
        "emo_con_list = ['no emotion',\n",
        "                'neutral',\n",
        "                'sadness',\n",
        "                'happiness',\n",
        "                'joy',\n",
        "                'anger',\n",
        "                'worry',\n",
        "                'love',\n",
        "                'surprise',\n",
        "                'fun',\n",
        "                'nocode',\n",
        "                'happy',\n",
        "                'angry',\n",
        "                'sad',\n",
        "                'happy|surprise',\n",
        "                'happy|sad',\n",
        "                'sad|angry',\n",
        "                'sad|disgust',\n",
        "                'sad|disgust|angry']    "
      ],
      "execution_count": null,
      "outputs": []
    },
    {
      "cell_type": "code",
      "metadata": {
        "id": "8syDwN8NjGsv"
      },
      "source": [
        "\n",
        "emo_dict1 = {'Neutral':0,\n",
        "    'worry':1,\n",
        "    'sad':2,\n",
        "    'frustrated':3,\n",
        "    'anger':4,\n",
        "    'surprise':5,\n",
        "    'love':6,\n",
        "    'happy':7\n",
        "    }\n"
      ],
      "execution_count": null,
      "outputs": []
    },
    {
      "cell_type": "code",
      "metadata": {
        "id": "vfaTuYhqnPed"
      },
      "source": [
        "#“Happiness”, “Surprise”, “Sadness”, “Anger”"
      ],
      "execution_count": null,
      "outputs": []
    },
    {
      "cell_type": "code",
      "metadata": {
        "id": "rQv__tgmsrD5"
      },
      "source": [
        "#DF = DF[DF.isin(emo_con_list)]"
      ],
      "execution_count": null,
      "outputs": []
    },
    {
      "cell_type": "code",
      "metadata": {
        "id": "N6Qc81RIwZ8e"
      },
      "source": [
        ""
      ],
      "execution_count": null,
      "outputs": []
    },
    {
      "cell_type": "code",
      "metadata": {
        "id": "ev3qusFQum1T"
      },
      "source": [
        "#DF.Emotions.value_counts()"
      ],
      "execution_count": null,
      "outputs": []
    },
    {
      "cell_type": "code",
      "metadata": {
        "id": "MriOXOgkvQGA"
      },
      "source": [
        "def make_df(DF,emo_l,new_emo):\n",
        "    df = pd.DataFrame()\n",
        "    for emo in emo_l:\n",
        "        df = pd.concat([df,DF[DF.Emotions == emo]])\n",
        "        df.Emotions = new_emo\n",
        "    return df"
      ],
      "execution_count": null,
      "outputs": []
    },
    {
      "cell_type": "code",
      "metadata": {
        "id": "08S1xJ7VuqY4"
      },
      "source": [
        "n_l = ['no emotion','neutral','nocode']\n",
        "new_emo = 'neutral'\n",
        "neutral_df = make_df(DF,n_l,new_emo)\n"
      ],
      "execution_count": null,
      "outputs": []
    },
    {
      "cell_type": "code",
      "metadata": {
        "colab": {
          "base_uri": "https://localhost:8080/"
        },
        "id": "xQD2c57YwE3G",
        "outputId": "24a8a815-fcb7-4e77-bcd1-d2a2a3e01f1d"
      },
      "source": [
        "e_l = ['worry']\n",
        "new_emo = 'worry'\n",
        "worry_df = make_df(DF,e_l,new_emo)\n",
        "worry_df.Emotions.isna().sum()"
      ],
      "execution_count": null,
      "outputs": [
        {
          "output_type": "execute_result",
          "data": {
            "text/plain": [
              "0"
            ]
          },
          "metadata": {},
          "execution_count": 75
        }
      ]
    },
    {
      "cell_type": "code",
      "metadata": {
        "colab": {
          "base_uri": "https://localhost:8080/"
        },
        "id": "RShKYQql0P7c",
        "outputId": "a65d8468-af5d-4457-bca7-53d1f6f550b1"
      },
      "source": [
        "e_l = ['sadness','sad','sad|angry','sad|disgust','sad|disgust|angry']\n",
        "new_emo = 'sad'\n",
        "sad_df = make_df(DF,e_l,new_emo)\n",
        "sad_df.Emotions.isna().sum()"
      ],
      "execution_count": null,
      "outputs": [
        {
          "output_type": "execute_result",
          "data": {
            "text/plain": [
              "0"
            ]
          },
          "metadata": {},
          "execution_count": 76
        }
      ]
    },
    {
      "cell_type": "code",
      "metadata": {
        "colab": {
          "base_uri": "https://localhost:8080/"
        },
        "id": "bjarOgoq15CE",
        "outputId": "e1840699-6788-4754-d3cb-8c7f05de4129"
      },
      "source": [
        "e_l = ['anger','angry']\n",
        "new_emo = 'anger'\n",
        "anger_df = make_df(DF,e_l,new_emo)\n",
        "anger_df.Emotions.isna().sum()"
      ],
      "execution_count": null,
      "outputs": [
        {
          "output_type": "execute_result",
          "data": {
            "text/plain": [
              "0"
            ]
          },
          "metadata": {},
          "execution_count": 78
        }
      ]
    },
    {
      "cell_type": "code",
      "metadata": {
        "colab": {
          "base_uri": "https://localhost:8080/"
        },
        "id": "PG9VuC9Z2TW4",
        "outputId": "b2150d40-6a63-48aa-9c10-8cf4dad307c9"
      },
      "source": [
        "e_l = ['surprise']\n",
        "new_emo = 'surprise'\n",
        "surprise_df = make_df(DF,e_l,new_emo)\n",
        "surprise_df.Emotions.isna().sum()"
      ],
      "execution_count": null,
      "outputs": [
        {
          "output_type": "execute_result",
          "data": {
            "text/plain": [
              "0"
            ]
          },
          "metadata": {},
          "execution_count": 80
        }
      ]
    },
    {
      "cell_type": "code",
      "metadata": {
        "colab": {
          "base_uri": "https://localhost:8080/"
        },
        "id": "-FKZTrrs2tk7",
        "outputId": "8f87af23-57b9-42f5-f6af-c0a3360a725e"
      },
      "source": [
        "e_l = ['love']\n",
        "new_emo = 'love'\n",
        "love_df = make_df(DF,e_l,new_emo)\n",
        "love_df.Emotions.isna().sum()"
      ],
      "execution_count": null,
      "outputs": [
        {
          "output_type": "execute_result",
          "data": {
            "text/plain": [
              "0"
            ]
          },
          "metadata": {},
          "execution_count": 82
        }
      ]
    },
    {
      "cell_type": "code",
      "metadata": {
        "colab": {
          "base_uri": "https://localhost:8080/"
        },
        "id": "7N4Zmehy2wWb",
        "outputId": "f6e0ccb9-dd9e-4e27-d1fc-ce3838fdb0f1"
      },
      "source": [
        "e_l = ['happy','happiness','happy|surprise','happy|sad',]\n",
        "new_emo = 'happy'\n",
        "happy_df = make_df(DF,e_l,new_emo)\n",
        "happy_df.Emotions.isna().sum()"
      ],
      "execution_count": null,
      "outputs": [
        {
          "output_type": "execute_result",
          "data": {
            "text/plain": [
              "0"
            ]
          },
          "metadata": {},
          "execution_count": 83
        }
      ]
    },
    {
      "cell_type": "code",
      "metadata": {
        "id": "gYTuyIEd3eRN"
      },
      "source": [
        "path = '/content/drive/MyDrive/NLP/Final_datasets/.csv'\n",
        "path_l = path.split('/')\n",
        "#df_list = [neutral_df,worry_df,sad_df,anger_df,surprise_df,love_df,happy_df]\n",
        "emo_list = ['Neutral', 'worry','sad','anger','surprise','love','happy']"
      ],
      "execution_count": null,
      "outputs": []
    },
    {
      "cell_type": "code",
      "metadata": {
        "id": "I9zLSefq4pe6"
      },
      "source": [
        "def save_df(df_list,emo_list):\n",
        "    for i in range(len(emo_list)):\n",
        "        save_path  = \"/\".join(path_l[:-1]+[emo_list[i] + path_l[-1]])\n",
        "        df_list[i].to_csv(save_path)\n",
        "        "
      ],
      "execution_count": null,
      "outputs": []
    },
    {
      "cell_type": "code",
      "metadata": {
        "id": "KF8rjQLGxy_K"
      },
      "source": [
        "import pandas as pd\n"
      ],
      "execution_count": null,
      "outputs": []
    },
    {
      "cell_type": "code",
      "metadata": {
        "id": "X1qR9p6S5SPo"
      },
      "source": [
        "save_df(df_list,emo_list)"
      ],
      "execution_count": null,
      "outputs": []
    },
    {
      "cell_type": "code",
      "metadata": {
        "id": "JyEUI8Irx0Ie"
      },
      "source": [
        "df_dict = {}\n",
        "for emo in emo_list:\n",
        "    save_path  = \"/\".join(path_l[:-1]+[emo + path_l[-1]])\n",
        "    df_dict[emo] = pd.read_csv(save_path)\n",
        "    \n"
      ],
      "execution_count": null,
      "outputs": []
    },
    {
      "cell_type": "code",
      "metadata": {
        "colab": {
          "base_uri": "https://localhost:8080/"
        },
        "id": "KouZDpya6b1h",
        "outputId": "fa3433a2-c552-471f-ea8d-9e490c958f7c"
      },
      "source": [
        ""
      ],
      "execution_count": null,
      "outputs": [
        {
          "output_type": "stream",
          "name": "stdout",
          "text": [
            "108898\n",
            "8431\n",
            "15708\n",
            "8946\n",
            "6950\n",
            "7241\n",
            "16279\n"
          ]
        }
      ]
    },
    {
      "cell_type": "code",
      "metadata": {
        "id": "zOJaNnGQ5UgZ"
      },
      "source": [
        "def combine_dfs(df_dict,max_size):\n",
        "    big_df = pd.DataFrame()\n",
        "    for emo in emo_list:\n",
        "        dfi = df_dict[emo]\n",
        "        size = dfi.shape[0]\n",
        "        if size <= max_size:\n",
        "            big_df = pd.concat([big_df,dfi])\n",
        "        else :\n",
        "            dfi = dfi.sample(frac=1)\n",
        "            dfi = dfi[:max_size]\n",
        "            big_df = pd.concat([big_df,dfi])\n",
        "    big_df = big_df.sample(frac = 1)\n",
        "    big_df = big_df.reset_index(drop=True)\n",
        "    return big_df"
      ],
      "execution_count": null,
      "outputs": []
    },
    {
      "cell_type": "code",
      "metadata": {
        "id": "nlzPBN8y8fe1"
      },
      "source": [
        "big_df = combine_dfs(df_dict,9000)"
      ],
      "execution_count": null,
      "outputs": []
    },
    {
      "cell_type": "code",
      "metadata": {
        "id": "tRKSMZnm8oS3"
      },
      "source": [
        "big_df = big_df.dropna()"
      ],
      "execution_count": null,
      "outputs": []
    },
    {
      "cell_type": "code",
      "metadata": {
        "id": "RR66tMCm9Wns"
      },
      "source": [
        "big_df = big_df.reset_index(drop=True)"
      ],
      "execution_count": null,
      "outputs": []
    },
    {
      "cell_type": "code",
      "metadata": {
        "id": "q4VXoEu58swH"
      },
      "source": [
        "big_df.to_csv('/content/drive/MyDrive/NLP/Final_datasets/9kmax.csv')"
      ],
      "execution_count": null,
      "outputs": []
    },
    {
      "cell_type": "code",
      "metadata": {
        "colab": {
          "base_uri": "https://localhost:8080/"
        },
        "id": "6U5hMTHb9DEc",
        "outputId": "c2585bbf-325a-4b88-8b34-8e5b03f97ae0"
      },
      "source": [
        "big_df.Emotions.value_counts()"
      ],
      "execution_count": null,
      "outputs": [
        {
          "output_type": "execute_result",
          "data": {
            "text/plain": [
              "happy       9000\n",
              "neutral     9000\n",
              "sad         9000\n",
              "anger       8946\n",
              "worry       8431\n",
              "love        7241\n",
              "surprise    6950\n",
              "Name: Emotions, dtype: int64"
            ]
          },
          "metadata": {},
          "execution_count": 16
        }
      ]
    },
    {
      "cell_type": "code",
      "metadata": {
        "id": "vFRHecYe9ia0"
      },
      "source": [
        ""
      ],
      "execution_count": null,
      "outputs": []
    }
  ]
}